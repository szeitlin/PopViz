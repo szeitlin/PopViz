{
 "metadata": {
  "name": ""
 },
 "nbformat": 3,
 "nbformat_minor": 0,
 "worksheets": [
  {
   "cells": [
    {
     "cell_type": "code",
     "collapsed": false,
     "input": [
      "import pandas"
     ],
     "language": "python",
     "metadata": {},
     "outputs": [],
     "prompt_number": 1
    },
    {
     "cell_type": "code",
     "collapsed": false,
     "input": [
      "testdf = pandas.DataFrame({ '0argh': ['row', 'row', 'your', 'boat'], '1790': ['blah', '200', '1790', 'moo'], '1800': ['blah', '1300', '1800', 'meh'], '1810': ['boo', 'nah', '1810', 'nope']})"
     ],
     "language": "python",
     "metadata": {},
     "outputs": [],
     "prompt_number": 8
    },
    {
     "cell_type": "code",
     "collapsed": false,
     "input": [
      "tall = testdf"
     ],
     "language": "python",
     "metadata": {},
     "outputs": [],
     "prompt_number": 9
    },
    {
     "cell_type": "code",
     "collapsed": false,
     "input": [
      "tall"
     ],
     "language": "python",
     "metadata": {},
     "outputs": [
      {
       "html": [
        "<div style=\"max-height:1000px;max-width:1500px;overflow:auto;\">\n",
        "<table border=\"1\" class=\"dataframe\">\n",
        "  <thead>\n",
        "    <tr style=\"text-align: right;\">\n",
        "      <th></th>\n",
        "      <th>0argh</th>\n",
        "      <th>1790</th>\n",
        "      <th>1800</th>\n",
        "      <th>1810</th>\n",
        "    </tr>\n",
        "  </thead>\n",
        "  <tbody>\n",
        "    <tr>\n",
        "      <th>0</th>\n",
        "      <td>  row</td>\n",
        "      <td> blah</td>\n",
        "      <td> blah</td>\n",
        "      <td>  boo</td>\n",
        "    </tr>\n",
        "    <tr>\n",
        "      <th>1</th>\n",
        "      <td>  row</td>\n",
        "      <td>  200</td>\n",
        "      <td> 1300</td>\n",
        "      <td>  nah</td>\n",
        "    </tr>\n",
        "    <tr>\n",
        "      <th>2</th>\n",
        "      <td> your</td>\n",
        "      <td> 1790</td>\n",
        "      <td> 1800</td>\n",
        "      <td> 1810</td>\n",
        "    </tr>\n",
        "    <tr>\n",
        "      <th>3</th>\n",
        "      <td> boat</td>\n",
        "      <td>  moo</td>\n",
        "      <td>  meh</td>\n",
        "      <td> nope</td>\n",
        "    </tr>\n",
        "  </tbody>\n",
        "</table>\n",
        "<p>4 rows \u00d7 4 columns</p>\n",
        "</div>"
       ],
       "metadata": {},
       "output_type": "pyout",
       "prompt_number": 10,
       "text": [
        "  0argh  1790  1800  1810\n",
        "0   row  blah  blah   boo\n",
        "1   row   200  1300   nah\n",
        "2  your  1790  1800  1810\n",
        "3  boat   moo   meh  nope\n",
        "\n",
        "[4 rows x 4 columns]"
       ]
      }
     ],
     "prompt_number": 10
    },
    {
     "cell_type": "code",
     "collapsed": false,
     "input": [
      "#state = 0 no column names yet\n",
      "#state = 1 set of possible column names found\n",
      "#state = 2 column names check if paired (if match, ignore, if not, change and reset state)\n",
      "\n",
      "state, years1, years2 = 0, [], []\n",
      "\n",
      "statements = [str(state), str(years1), str(years2)]\n",
      "print 'state is ' + statements[0], 'years1 is ' + statements[1]+ ' years2 is ' + statements[2]\n",
      "\n"
     ],
     "language": "python",
     "metadata": {},
     "outputs": [
      {
       "output_type": "stream",
       "stream": "stdout",
       "text": [
        "state is 0 years1 is [] years2 is []\n"
       ]
      }
     ],
     "prompt_number": 11
    },
    {
     "cell_type": "code",
     "collapsed": false,
     "input": [
      "region = tall['0argh']"
     ],
     "language": "python",
     "metadata": {},
     "outputs": [],
     "prompt_number": 12
    },
    {
     "cell_type": "code",
     "collapsed": false,
     "input": [
      "for i in range(len(region)):\n",
      "    try:\n",
      "        if state == 1:\n",
      "            if '200' in region[i]:\n",
      "                years2 = tall.ix[i+1]\n",
      "                print 'years2 is ' + str(years2)\n",
      "                state +=1\n",
      "        if state == 2:\n",
      "            if years2 == years1:\n",
      "                print 'the same now'\n",
      "                continue\n",
      "            elif years2 != years1:\n",
      "                print 'years 2 vs. years 1 is ' + str(years2), str(years1)\n",
      "                chunk = tall[0:i-1] #lop off a piece\n",
      "                tall = tall[i:-1] #return what's left to continue search\n",
      "                print \"here's the first chunk\"\n",
      "                print chunk.head()\n",
      "                print \"here's the top of tall\"\n",
      "                print tall.head()\n",
      "                state = 0 \n",
      "        if state == 0:\n",
      "            print \"state is 0, no years found yet\"\n",
      "            if '200' in region[i]:\n",
      "                years1 = tall.ix[i+1]\n",
      "                state += 1\n",
      "            \n",
      "    except TypeError:\n",
      "        continue\n",
      "    "
     ],
     "language": "python",
     "metadata": {},
     "outputs": [
      {
       "output_type": "stream",
       "stream": "stdout",
       "text": [
        "state is 0, no years found yet\n",
        "state is 0, no years found yet\n",
        "state is 0, no years found yet\n",
        "state is 0, no years found yet\n"
       ]
      }
     ],
     "prompt_number": 15
    },
    {
     "cell_type": "code",
     "collapsed": false,
     "input": [
      "df = pandas.read_csv(\"tall_condensed.csv\")"
     ],
     "language": "python",
     "metadata": {},
     "outputs": [],
     "prompt_number": 19
    },
    {
     "cell_type": "code",
     "collapsed": false,
     "input": [
      "df.head()"
     ],
     "language": "python",
     "metadata": {},
     "outputs": [
      {
       "html": [
        "<div style=\"max-height:1000px;max-width:1500px;overflow:auto;\">\n",
        "<table border=\"1\" class=\"dataframe\">\n",
        "  <thead>\n",
        "    <tr style=\"text-align: right;\">\n",
        "      <th></th>\n",
        "      <th>Unnamed: 0</th>\n",
        "      <th>index</th>\n",
        "      <th>region</th>\n",
        "      <th>1790</th>\n",
        "      <th>1800</th>\n",
        "      <th>1810</th>\n",
        "      <th>1820</th>\n",
        "      <th>1830</th>\n",
        "      <th>1840</th>\n",
        "      <th>1850</th>\n",
        "    </tr>\n",
        "  </thead>\n",
        "  <tbody>\n",
        "    <tr>\n",
        "      <th>0</th>\n",
        "      <td> 0</td>\n",
        "      <td> 0</td>\n",
        "      <td>         Maine</td>\n",
        "      <td>  96,540</td>\n",
        "      <td> 151,719</td>\n",
        "      <td> 228,705</td>\n",
        "      <td> 298,335</td>\n",
        "      <td> 399,455</td>\n",
        "      <td> 501,793</td>\n",
        "      <td> 583,169</td>\n",
        "    </tr>\n",
        "    <tr>\n",
        "      <th>1</th>\n",
        "      <td> 1</td>\n",
        "      <td> 1</td>\n",
        "      <td> New Hampshire</td>\n",
        "      <td> 141,885</td>\n",
        "      <td> 183,858</td>\n",
        "      <td> 214,460</td>\n",
        "      <td> 244,161</td>\n",
        "      <td> 269,328</td>\n",
        "      <td> 284,574</td>\n",
        "      <td> 317,976</td>\n",
        "    </tr>\n",
        "    <tr>\n",
        "      <th>2</th>\n",
        "      <td> 2</td>\n",
        "      <td> 2</td>\n",
        "      <td>       Vermont</td>\n",
        "      <td>  85,425</td>\n",
        "      <td> 154,465</td>\n",
        "      <td> 217,895</td>\n",
        "      <td> 235,981</td>\n",
        "      <td> 280,652</td>\n",
        "      <td> 291,948</td>\n",
        "      <td> 314,120</td>\n",
        "    </tr>\n",
        "    <tr>\n",
        "      <th>3</th>\n",
        "      <td> 3</td>\n",
        "      <td> 3</td>\n",
        "      <td> Massachusetts</td>\n",
        "      <td> 378,787</td>\n",
        "      <td> 422,845</td>\n",
        "      <td> 472,040</td>\n",
        "      <td> 523,287</td>\n",
        "      <td> 610,408</td>\n",
        "      <td> 737,699</td>\n",
        "      <td> 994,514</td>\n",
        "    </tr>\n",
        "    <tr>\n",
        "      <th>4</th>\n",
        "      <td> 4</td>\n",
        "      <td> 4</td>\n",
        "      <td>  Rhode Island</td>\n",
        "      <td>  68,825</td>\n",
        "      <td>  69,122</td>\n",
        "      <td>  76,931</td>\n",
        "      <td>  83,059</td>\n",
        "      <td>  97,199</td>\n",
        "      <td> 108,830</td>\n",
        "      <td> 147,545</td>\n",
        "    </tr>\n",
        "  </tbody>\n",
        "</table>\n",
        "<p>5 rows \u00d7 10 columns</p>\n",
        "</div>"
       ],
       "metadata": {},
       "output_type": "pyout",
       "prompt_number": 20,
       "text": [
        "   Unnamed: 0  index         region     1790     1800     1810     1820  \\\n",
        "0           0      0          Maine   96,540  151,719  228,705  298,335   \n",
        "1           1      1  New Hampshire  141,885  183,858  214,460  244,161   \n",
        "2           2      2        Vermont   85,425  154,465  217,895  235,981   \n",
        "3           3      3  Massachusetts  378,787  422,845  472,040  523,287   \n",
        "4           4      4   Rhode Island   68,825   69,122   76,931   83,059   \n",
        "\n",
        "      1830     1840     1850  \n",
        "0  399,455  501,793  583,169  \n",
        "1  269,328  284,574  317,976  \n",
        "2  280,652  291,948  314,120  \n",
        "3  610,408  737,699  994,514  \n",
        "4   97,199  108,830  147,545  \n",
        "\n",
        "[5 rows x 10 columns]"
       ]
      }
     ],
     "prompt_number": 20
    },
    {
     "cell_type": "code",
     "collapsed": false,
     "input": [
      "df = df.drop(['Unnamed: 0','index'], axis = 1)"
     ],
     "language": "python",
     "metadata": {},
     "outputs": [],
     "prompt_number": 33
    },
    {
     "cell_type": "code",
     "collapsed": false,
     "input": [
      "df.head()"
     ],
     "language": "python",
     "metadata": {},
     "outputs": [
      {
       "html": [
        "<div style=\"max-height:1000px;max-width:1500px;overflow:auto;\">\n",
        "<table border=\"1\" class=\"dataframe\">\n",
        "  <thead>\n",
        "    <tr style=\"text-align: right;\">\n",
        "      <th></th>\n",
        "      <th>region</th>\n",
        "      <th>1790</th>\n",
        "      <th>1800</th>\n",
        "      <th>1810</th>\n",
        "      <th>1820</th>\n",
        "      <th>1830</th>\n",
        "      <th>1840</th>\n",
        "      <th>1850</th>\n",
        "    </tr>\n",
        "  </thead>\n",
        "  <tbody>\n",
        "    <tr>\n",
        "      <th>0</th>\n",
        "      <td>         Maine</td>\n",
        "      <td>  96,540</td>\n",
        "      <td> 151,719</td>\n",
        "      <td> 228,705</td>\n",
        "      <td> 298,335</td>\n",
        "      <td> 399,455</td>\n",
        "      <td> 501,793</td>\n",
        "      <td> 583,169</td>\n",
        "    </tr>\n",
        "    <tr>\n",
        "      <th>1</th>\n",
        "      <td> New Hampshire</td>\n",
        "      <td> 141,885</td>\n",
        "      <td> 183,858</td>\n",
        "      <td> 214,460</td>\n",
        "      <td> 244,161</td>\n",
        "      <td> 269,328</td>\n",
        "      <td> 284,574</td>\n",
        "      <td> 317,976</td>\n",
        "    </tr>\n",
        "    <tr>\n",
        "      <th>2</th>\n",
        "      <td>       Vermont</td>\n",
        "      <td>  85,425</td>\n",
        "      <td> 154,465</td>\n",
        "      <td> 217,895</td>\n",
        "      <td> 235,981</td>\n",
        "      <td> 280,652</td>\n",
        "      <td> 291,948</td>\n",
        "      <td> 314,120</td>\n",
        "    </tr>\n",
        "    <tr>\n",
        "      <th>3</th>\n",
        "      <td> Massachusetts</td>\n",
        "      <td> 378,787</td>\n",
        "      <td> 422,845</td>\n",
        "      <td> 472,040</td>\n",
        "      <td> 523,287</td>\n",
        "      <td> 610,408</td>\n",
        "      <td> 737,699</td>\n",
        "      <td> 994,514</td>\n",
        "    </tr>\n",
        "    <tr>\n",
        "      <th>4</th>\n",
        "      <td>  Rhode Island</td>\n",
        "      <td>  68,825</td>\n",
        "      <td>  69,122</td>\n",
        "      <td>  76,931</td>\n",
        "      <td>  83,059</td>\n",
        "      <td>  97,199</td>\n",
        "      <td> 108,830</td>\n",
        "      <td> 147,545</td>\n",
        "    </tr>\n",
        "  </tbody>\n",
        "</table>\n",
        "<p>5 rows \u00d7 8 columns</p>\n",
        "</div>"
       ],
       "metadata": {},
       "output_type": "pyout",
       "prompt_number": 34,
       "text": [
        "          region     1790     1800     1810     1820     1830     1840  \\\n",
        "0          Maine   96,540  151,719  228,705  298,335  399,455  501,793   \n",
        "1  New Hampshire  141,885  183,858  214,460  244,161  269,328  284,574   \n",
        "2        Vermont   85,425  154,465  217,895  235,981  280,652  291,948   \n",
        "3  Massachusetts  378,787  422,845  472,040  523,287  610,408  737,699   \n",
        "4   Rhode Island   68,825   69,122   76,931   83,059   97,199  108,830   \n",
        "\n",
        "      1850  \n",
        "0  583,169  \n",
        "1  317,976  \n",
        "2  314,120  \n",
        "3  994,514  \n",
        "4  147,545  \n",
        "\n",
        "[5 rows x 8 columns]"
       ]
      }
     ],
     "prompt_number": 34
    },
    {
     "cell_type": "code",
     "collapsed": false,
     "input": [
      "these = pandas.Series([1,2,3,4,5])\n",
      "those = pandas.Series([1,2,3,7])\n"
     ],
     "language": "python",
     "metadata": {},
     "outputs": [],
     "prompt_number": 38
    },
    {
     "cell_type": "code",
     "collapsed": false,
     "input": [
      "those.isin(these)"
     ],
     "language": "python",
     "metadata": {},
     "outputs": [
      {
       "metadata": {},
       "output_type": "pyout",
       "prompt_number": 39,
       "text": [
        "0     True\n",
        "1     True\n",
        "2     True\n",
        "3    False\n",
        "dtype: bool"
       ]
      }
     ],
     "prompt_number": 39
    },
    {
     "cell_type": "code",
     "collapsed": false,
     "input": [
      "those[1:3].isin(these[1:3])"
     ],
     "language": "python",
     "metadata": {},
     "outputs": [
      {
       "metadata": {},
       "output_type": "pyout",
       "prompt_number": 40,
       "text": [
        "1    True\n",
        "2    True\n",
        "dtype: bool"
       ]
      }
     ],
     "prompt_number": 40
    },
    {
     "cell_type": "code",
     "collapsed": false,
     "input": [
      "those[1:3].all() == these[1:3].all()"
     ],
     "language": "python",
     "metadata": {},
     "outputs": [
      {
       "metadata": {},
       "output_type": "pyout",
       "prompt_number": 43,
       "text": [
        "True"
       ]
      }
     ],
     "prompt_number": 43
    },
    {
     "cell_type": "code",
     "collapsed": false,
     "input": [
      "names = range(8)"
     ],
     "language": "python",
     "metadata": {},
     "outputs": [],
     "prompt_number": 47
    },
    {
     "cell_type": "code",
     "collapsed": false,
     "input": [
      "names"
     ],
     "language": "python",
     "metadata": {},
     "outputs": [
      {
       "metadata": {},
       "output_type": "pyout",
       "prompt_number": 48,
       "text": [
        "[0, 1, 2, 3, 4, 5, 6, 7]"
       ]
      }
     ],
     "prompt_number": 48
    },
    {
     "cell_type": "code",
     "collapsed": false,
     "input": [
      "names_as_str = [str(i) for i in names]"
     ],
     "language": "python",
     "metadata": {},
     "outputs": [],
     "prompt_number": 49
    },
    {
     "cell_type": "code",
     "collapsed": false,
     "input": [
      "names_as_str"
     ],
     "language": "python",
     "metadata": {},
     "outputs": [
      {
       "metadata": {},
       "output_type": "pyout",
       "prompt_number": 50,
       "text": [
        "['0', '1', '2', '3', '4', '5', '6', '7']"
       ]
      }
     ],
     "prompt_number": 50
    },
    {
     "cell_type": "code",
     "collapsed": false,
     "input": [
      "df.columns = [names_as_str]"
     ],
     "language": "python",
     "metadata": {},
     "outputs": [],
     "prompt_number": 54
    },
    {
     "cell_type": "code",
     "collapsed": false,
     "input": [
      "names[0] = 'region'"
     ],
     "language": "python",
     "metadata": {},
     "outputs": [],
     "prompt_number": 55
    },
    {
     "cell_type": "code",
     "collapsed": false,
     "input": [
      "names"
     ],
     "language": "python",
     "metadata": {},
     "outputs": [
      {
       "metadata": {},
       "output_type": "pyout",
       "prompt_number": 56,
       "text": [
        "['region', 1, 2, 3, 4, 5, 6, 7]"
       ]
      }
     ],
     "prompt_number": 56
    },
    {
     "cell_type": "code",
     "collapsed": false,
     "input": [],
     "language": "python",
     "metadata": {},
     "outputs": []
    }
   ],
   "metadata": {}
  }
 ]
}