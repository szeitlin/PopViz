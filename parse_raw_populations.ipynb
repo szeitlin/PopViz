{
 "metadata": {
  "name": ""
 },
 "nbformat": 3,
 "nbformat_minor": 0,
 "worksheets": [
  {
   "cells": [
    {
     "cell_type": "code",
     "collapsed": false,
     "input": [
      "import pandas"
     ],
     "language": "python",
     "metadata": {},
     "outputs": [],
     "prompt_number": 4
    },
    {
     "cell_type": "code",
     "collapsed": false,
     "input": [
      "names = ['region', '1790', '1800', '1810', '1820', '1830', '1840',  '1850']"
     ],
     "language": "python",
     "metadata": {},
     "outputs": [],
     "prompt_number": 5
    },
    {
     "cell_type": "code",
     "collapsed": false,
     "input": [
      "widths = [15, 15, 15, 15, 13, 13, 13, 13]"
     ],
     "language": "python",
     "metadata": {},
     "outputs": [],
     "prompt_number": 15
    },
    {
     "cell_type": "code",
     "collapsed": false,
     "input": [
      "test = pandas.read_fwf(\"raw_table.txt\", skiprows = 8, names = names, widths = widths) # index_col = 0)"
     ],
     "language": "python",
     "metadata": {},
     "outputs": [],
     "prompt_number": 16
    },
    {
     "cell_type": "code",
     "collapsed": false,
     "input": [
      "test.head()"
     ],
     "language": "python",
     "metadata": {},
     "outputs": [
      {
       "html": [
        "<div style=\"max-height:1000px;max-width:1500px;overflow:auto;\">\n",
        "<table border=\"1\" class=\"dataframe\">\n",
        "  <thead>\n",
        "    <tr style=\"text-align: right;\">\n",
        "      <th></th>\n",
        "      <th>region</th>\n",
        "      <th>1790</th>\n",
        "      <th>1800</th>\n",
        "      <th>1810</th>\n",
        "      <th>1820</th>\n",
        "      <th>1830</th>\n",
        "      <th>1840</th>\n",
        "      <th>1850</th>\n",
        "    </tr>\n",
        "  </thead>\n",
        "  <tbody>\n",
        "    <tr>\n",
        "      <th>0</th>\n",
        "      <td>         Maine</td>\n",
        "      <td>  96,540</td>\n",
        "      <td> 151,719</td>\n",
        "      <td> 228,705</td>\n",
        "      <td> 298,335</td>\n",
        "      <td> 399,455</td>\n",
        "      <td> 501,793</td>\n",
        "      <td> 583,169</td>\n",
        "    </tr>\n",
        "    <tr>\n",
        "      <th>1</th>\n",
        "      <td> New Hampshire</td>\n",
        "      <td> 141,885</td>\n",
        "      <td> 183,858</td>\n",
        "      <td> 214,460</td>\n",
        "      <td> 244,161</td>\n",
        "      <td> 269,328</td>\n",
        "      <td> 284,574</td>\n",
        "      <td> 317,976</td>\n",
        "    </tr>\n",
        "    <tr>\n",
        "      <th>2</th>\n",
        "      <td>       Vermont</td>\n",
        "      <td>  85,425</td>\n",
        "      <td> 154,465</td>\n",
        "      <td> 217,895</td>\n",
        "      <td> 235,981</td>\n",
        "      <td> 280,652</td>\n",
        "      <td> 291,948</td>\n",
        "      <td> 314,120</td>\n",
        "    </tr>\n",
        "    <tr>\n",
        "      <th>3</th>\n",
        "      <td> Massachusetts</td>\n",
        "      <td> 378,787</td>\n",
        "      <td> 422,845</td>\n",
        "      <td> 472,040</td>\n",
        "      <td> 523,287</td>\n",
        "      <td> 610,408</td>\n",
        "      <td> 737,699</td>\n",
        "      <td> 994,514</td>\n",
        "    </tr>\n",
        "    <tr>\n",
        "      <th>4</th>\n",
        "      <td>  Rhode Island</td>\n",
        "      <td>  68,825</td>\n",
        "      <td>  69,122</td>\n",
        "      <td>  76,931</td>\n",
        "      <td>  83,059</td>\n",
        "      <td>  97,199</td>\n",
        "      <td> 108,830</td>\n",
        "      <td> 147,545</td>\n",
        "    </tr>\n",
        "  </tbody>\n",
        "</table>\n",
        "<p>5 rows \u00d7 8 columns</p>\n",
        "</div>"
       ],
       "metadata": {},
       "output_type": "pyout",
       "prompt_number": 17,
       "text": [
        "          region     1790     1800     1810     1820     1830     1840  \\\n",
        "0          Maine   96,540  151,719  228,705  298,335  399,455  501,793   \n",
        "1  New Hampshire  141,885  183,858  214,460  244,161  269,328  284,574   \n",
        "2        Vermont   85,425  154,465  217,895  235,981  280,652  291,948   \n",
        "3  Massachusetts  378,787  422,845  472,040  523,287  610,408  737,699   \n",
        "4   Rhode Island   68,825   69,122   76,931   83,059   97,199  108,830   \n",
        "\n",
        "      1850  \n",
        "0  583,169  \n",
        "1  317,976  \n",
        "2  314,120  \n",
        "3  994,514  \n",
        "4  147,545  \n",
        "\n",
        "[5 rows x 8 columns]"
       ]
      }
     ],
     "prompt_number": 17
    },
    {
     "cell_type": "code",
     "collapsed": false,
     "input": [],
     "language": "python",
     "metadata": {},
     "outputs": []
    }
   ],
   "metadata": {}
  }
 ]
}